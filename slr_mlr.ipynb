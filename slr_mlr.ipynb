{
  "nbformat": 4,
  "nbformat_minor": 0,
  "metadata": {
    "colab": {
      "provenance": [],
      "authorship_tag": "ABX9TyNf/Tol2Cn5GPCx09Cmi0H1",
      "include_colab_link": true
    },
    "kernelspec": {
      "name": "python3",
      "display_name": "Python 3"
    },
    "language_info": {
      "name": "python"
    }
  },
  "cells": [
    {
      "cell_type": "markdown",
      "metadata": {
        "id": "view-in-github",
        "colab_type": "text"
      },
      "source": [
        "<a href=\"https://colab.research.google.com/github/prinnceesharma/TF-IDF/blob/main/slr_mlr.ipynb\" target=\"_parent\"><img src=\"https://colab.research.google.com/assets/colab-badge.svg\" alt=\"Open In Colab\"/></a>"
      ]
    },
    {
      "cell_type": "code",
      "execution_count": 3,
      "metadata": {
        "colab": {
          "base_uri": "https://localhost:8080/"
        },
        "id": "zfSGaIVfj3Aq",
        "outputId": "d347628e-5fc8-4940-a32a-8b2e016e27d1"
      },
      "outputs": [
        {
          "output_type": "stream",
          "name": "stdout",
          "text": [
            "[5.5820162  2.39363468 4.16581768 0.81104938 4.24320465 5.98056389\n",
            " 4.42893633 4.03812808 4.60692857 1.8287002  5.44658716 5.27633435\n",
            " 7.68309936 1.43015251 1.68553173 4.03812808 2.83474557 4.25094409\n",
            " 4.12325448 2.02217132 1.97960812 4.95517363 5.0557789  1.8287002\n",
            " 1.26763914 0.99678106 3.80983319 5.00547626 4.25868352 5.6245794 ] \n",
            "\n",
            "Mean Absoute Error:  0.4837546988047388\n",
            "Mean Squeared Error:  0.41567544130667394\n",
            "RMSE:  0.644728967324002\n"
          ]
        }
      ],
      "source": [
        "import numpy as np\n",
        "\n",
        "x = iris[['SepalLengthCm', 'SepalWidthCm']]\n",
        "y = iris.PetalLengthCm\n",
        "\n",
        "from sklearn.model_selection import train_test_split\n",
        "x_train, x_test, y_train, y_test = train_test_split(x,y,test_size=0.2)\n",
        "\n",
        "from sklearn.linear_model import LinearRegression\n",
        "LR = LinearRegression()\n",
        "\n",
        "training = LR.fit(x_train, y_train)\n",
        "y_pred = LR.predict(x_test)\n",
        "print(y_pred, \"\\n\")\n",
        "\n",
        "#pip install numpy\n",
        "import numpy as np\n",
        "from sklearn import metrics\n",
        "\n",
        "MAE = metrics.mean_absolute_error(y_test, y_pred)\n",
        "print(\"Mean Absoute Error: \", MAE)\n",
        "MSE = metrics.mean_squared_error(y_test, y_pred)\n",
        "print(\"Mean Squeared Error: \", MSE)\n",
        "RMSE = np.sqrt(metrics.mean_squared_error(y_test, y_pred))\n",
        "print(\"RMSE: \", RMSE)"
      ]
    },
    {
      "cell_type": "code",
      "source": [
        "import numpy as np\n",
        "\n",
        "x = iris[['SepalLengthCm']]\n",
        "y = iris.PetalLengthCm\n",
        "\n",
        "from sklearn.model_selection import train_test_split\n",
        "x_train, x_test, y_train, y_test = train_test_split(x,y,test_size=0.2)\n",
        "\n",
        "from sklearn.linear_model import LinearRegression\n",
        "LR = LinearRegression()\n",
        "\n",
        "training = LR.fit(x_train, y_train)\n",
        "y_pred = LR.predict(x_test)\n",
        "print(y_pred, \"\\n\")\n",
        "\n",
        "#pip install numpy\n",
        "import numpy as np\n",
        "from sklearn import metrics\n",
        "\n",
        "MAE = metrics.mean_absolute_error(y_test, y_pred)\n",
        "print(\"Mean Absoute Error: \", MAE)\n",
        "MSE = metrics.mean_squared_error(y_test, y_pred)\n",
        "print(\"Mean Squeared Error: \", MSE)\n",
        "RMSE = np.sqrt(metrics.mean_squared_error(y_test, y_pred))\n",
        "print(\"RMSE: \", RMSE)"
      ],
      "metadata": {
        "colab": {
          "base_uri": "https://localhost:8080/"
        },
        "id": "u41Xz_OxwrtP",
        "outputId": "e5d96f22-9c4d-4752-c0f5-d1dc27229821"
      },
      "execution_count": 4,
      "outputs": [
        {
          "output_type": "stream",
          "name": "stdout",
          "text": [
            "[3.5071646  2.22355932 6.99123606 2.4069315  2.04018714 4.97414206\n",
            " 4.79076987 4.42402551 7.54135261 3.32379241 4.24065333 3.87390896\n",
            " 1.49007059 3.69053678 5.34088642 1.85681495 2.4069315  4.60739769\n",
            " 2.22355932 2.22355932 1.85681495 4.24065333 4.05728114 5.34088642\n",
            " 4.24065333 5.5242586  3.14042023 2.22355932 2.04018714 5.15751424] \n",
            "\n",
            "Mean Absoute Error:  0.7249106467505972\n",
            "Mean Squeared Error:  0.7529247038451812\n",
            "RMSE:  0.8677123393413172\n"
          ]
        }
      ]
    },
    {
      "cell_type": "code",
      "metadata": {
        "id": "d1e077dd"
      },
      "source": [
        "from sklearn.datasets import load_iris\n",
        "import pandas as pd\n",
        "\n",
        "iris_data = load_iris()\n",
        "iris = pd.DataFrame(data=iris_data.data, columns=iris_data.feature_names)\n",
        "iris.columns = ['SepalLengthCm', 'SepalWidthCm', 'PetalLengthCm', 'PetalWidthCm']"
      ],
      "execution_count": 2,
      "outputs": []
    }
  ]
}